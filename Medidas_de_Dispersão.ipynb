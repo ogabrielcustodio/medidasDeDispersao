{
  "nbformat": 4,
  "nbformat_minor": 0,
  "metadata": {
    "colab": {
      "provenance": [],
      "authorship_tag": "ABX9TyNQC4m0ggA8kBCH6n9+GCs/",
      "include_colab_link": true
    },
    "kernelspec": {
      "name": "python3",
      "display_name": "Python 3"
    },
    "language_info": {
      "name": "python"
    }
  },
  "cells": [
    {
      "cell_type": "markdown",
      "metadata": {
        "id": "view-in-github",
        "colab_type": "text"
      },
      "source": [
        "<a href=\"https://colab.research.google.com/github/ogabrielcustodio/medidasDeDispersao/blob/main/Medidas_de_Dispers%C3%A3o.ipynb\" target=\"_parent\"><img src=\"https://colab.research.google.com/assets/colab-badge.svg\" alt=\"Open In Colab\"/></a>"
      ]
    },
    {
      "cell_type": "markdown",
      "source": [
        "# Medidas de Dispersão"
      ],
      "metadata": {
        "id": "xFpZDhybxtXf"
      }
    },
    {
      "cell_type": "markdown",
      "source": [
        "As medidas de dispersão são medidas que medem a variação dos dados em relação a média. As medidas mais usadas são: variância, desvio padrão e coeficiente de variação."
      ],
      "metadata": {
        "id": "b6h1q1lmxxgH"
      }
    },
    {
      "cell_type": "markdown",
      "source": [
        "## Variância"
      ],
      "metadata": {
        "id": "u4oZQSfvx_cf"
      }
    },
    {
      "cell_type": "markdown",
      "source": [
        "A variância é uma medida de dispersão que calcula a distância dos valores em relação à média. Como podemos lidar com dados populacionais ou amostrais, a variância se comporta de forma diferente nesses dois cenários, justamente para ajustar o efeito dos valores extremos. A principal diferença está na divisão realizada ao final da soma dos valores elevados ao quadrado. Na variância amostral, os valores são divididos pelo número da amostra menos um, enquanto na variância populacional, os valores são divididos pelo número total da população. É bom lembrar que, por considerar a média, a variância pode ser influenciada por valores extremos, tanto na variância populacional quanto na amostral, embora a variância amostral tenha um ajuste (divisão por n-1) para compensar o viés amostral.\n",
        "\n"
      ],
      "metadata": {
        "id": "Mpc8B99tyCzB"
      }
    },
    {
      "cell_type": "code",
      "execution_count": 1,
      "metadata": {
        "id": "bA_JcLyzxoah"
      },
      "outputs": [],
      "source": [
        "numeros = [1,2,3,4,5]"
      ]
    },
    {
      "cell_type": "code",
      "source": [
        "def media(numeros):\n",
        "    return sum(numeros)/len(numeros)"
      ],
      "metadata": {
        "id": "_tzsGOCny5l8"
      },
      "execution_count": 2,
      "outputs": []
    },
    {
      "cell_type": "code",
      "source": [
        "media(numeros)"
      ],
      "metadata": {
        "colab": {
          "base_uri": "https://localhost:8080/"
        },
        "id": "D4FU9z4Ny-8B",
        "outputId": "bd8e26f2-6668-4da2-d563-8fcef8ae79c4"
      },
      "execution_count": 3,
      "outputs": [
        {
          "output_type": "execute_result",
          "data": {
            "text/plain": [
              "3.0"
            ]
          },
          "metadata": {},
          "execution_count": 3
        }
      ]
    },
    {
      "cell_type": "markdown",
      "source": [
        "A 1ª parte do cálculo da variância é retirar a média e diminuir cada valor pela média e somar o resultado de cada subtração, contudo esse resultado deve ser elevado a dois. Repare que nesse 1º exemplo não elevamos e o resultado foi zero, isso ocorre porque a substração dará valores negativos que se somados aos valores positivos irão zerar os  resultados."
      ],
      "metadata": {
        "id": "y3qhhvwrzPtd"
      }
    },
    {
      "cell_type": "code",
      "source": [
        "(1-3) + (2-3) + (3-3) + (4-3) + (5-3)"
      ],
      "metadata": {
        "colab": {
          "base_uri": "https://localhost:8080/"
        },
        "id": "qqrYHqGvzAy2",
        "outputId": "2143d33b-4197-46e0-f448-159035a9af75"
      },
      "execution_count": 4,
      "outputs": [
        {
          "output_type": "execute_result",
          "data": {
            "text/plain": [
              "0"
            ]
          },
          "metadata": {},
          "execution_count": 4
        }
      ]
    },
    {
      "cell_type": "markdown",
      "source": [
        "A 1ª parte do cálculo da variância só que agora elevando os resultados de cada subtração ao quadrado, repare que o resultado foi maior que o resultado anterior onde não houve a elevação ao quadrado."
      ],
      "metadata": {
        "id": "_O_MkTCqzsZa"
      }
    },
    {
      "cell_type": "code",
      "source": [
        "(1-3)**2 + (2-3)**2 + (3-3)**2 + (4-3)**2 + (5-3)**2"
      ],
      "metadata": {
        "colab": {
          "base_uri": "https://localhost:8080/"
        },
        "id": "tqEm6LxazILH",
        "outputId": "0759180b-6bfc-41fd-f07e-462f528b81ea"
      },
      "execution_count": 5,
      "outputs": [
        {
          "output_type": "execute_result",
          "data": {
            "text/plain": [
              "10"
            ]
          },
          "metadata": {},
          "execution_count": 5
        }
      ]
    },
    {
      "cell_type": "markdown",
      "source": [
        "A 1ª parte do cálculo da variância é a distância dos valores em relação a média, essa distância é calculada a partir da subtração de cada valor pela média elevando cada valor ao quadrado."
      ],
      "metadata": {
        "id": "I9pFMBmv3WK-"
      }
    },
    {
      "cell_type": "markdown",
      "source": [
        "## Função para calcular a variância amostral sem uso de biblioteca"
      ],
      "metadata": {
        "id": "eXTMXrYs4Mud"
      }
    },
    {
      "cell_type": "code",
      "source": [
        "def varianciaAmostral(numeros):\n",
        "  mediaNumeros = media(numeros)\n",
        "  tamanhoNumeros = len(numeros)\n",
        "\n",
        "  variacoesQuadradas = []\n",
        "  for observacao in numeros:\n",
        "    diferencaValores = (observacao-mediaNumeros)**2\n",
        "    variacoesQuadradas.append(diferencaValores)\n",
        "\n",
        "    variancia = sum(variacoesQuadradas)/(tamanhoNumeros-1)\n",
        "  return variancia"
      ],
      "metadata": {
        "id": "7iN-hOyhzLrJ"
      },
      "execution_count": 6,
      "outputs": []
    },
    {
      "cell_type": "markdown",
      "source": [
        "Na função acima alem de realizarmos a média com uso da função média que criamos anteriormente fizemos também o cálculo da variância para cada observação dentro da lista numeros, em seguida fizemos aquela 1ª parte que mencionamos anteriormente e adicionamos o resultado em uma nova lista para ao final somar todos os valores da lista e dividir pelo tamanho da lista menos  um."
      ],
      "metadata": {
        "id": "ZmwBDiGT3pnp"
      }
    },
    {
      "cell_type": "code",
      "source": [
        "varianciaAmostral(numeros)"
      ],
      "metadata": {
        "colab": {
          "base_uri": "https://localhost:8080/"
        },
        "id": "nnh308ui3HuB",
        "outputId": "256d8da3-6456-4a2e-b708-fe9697cdbdf3"
      },
      "execution_count": 7,
      "outputs": [
        {
          "output_type": "execute_result",
          "data": {
            "text/plain": [
              "2.5"
            ]
          },
          "metadata": {},
          "execution_count": 7
        }
      ]
    },
    {
      "cell_type": "markdown",
      "source": [
        "## Calculando a variância usando a biblioteca Numpy"
      ],
      "metadata": {
        "id": "kQ98jgOuLHpr"
      }
    },
    {
      "cell_type": "code",
      "source": [
        "import numpy as np"
      ],
      "metadata": {
        "id": "Ac9Casvc3MNV"
      },
      "execution_count": 8,
      "outputs": []
    },
    {
      "cell_type": "markdown",
      "source": [
        "Para calcularmos a variância usando o numpy basta acessar o método var e passar para ele por parâmetro o array, contudo vale lembrar que o 2º argumento deve ser passado somente em caso de variância amostral, isso porque sem ele será calculado a variância populacional."
      ],
      "metadata": {
        "id": "GabYfpVv66P9"
      }
    },
    {
      "cell_type": "code",
      "source": [
        "np.var(numeros, ddof=1)"
      ],
      "metadata": {
        "colab": {
          "base_uri": "https://localhost:8080/"
        },
        "id": "ocgSFz3U4T-r",
        "outputId": "e9c43f43-13a8-46f9-8fde-f4d815a04d25"
      },
      "execution_count": 9,
      "outputs": [
        {
          "output_type": "execute_result",
          "data": {
            "text/plain": [
              "2.5"
            ]
          },
          "metadata": {},
          "execution_count": 9
        }
      ]
    },
    {
      "cell_type": "markdown",
      "source": [
        "## Aplicando a documentação do Numpy sobre o método var()"
      ],
      "metadata": {
        "id": "h1evinglK8nP"
      }
    },
    {
      "cell_type": "markdown",
      "source": [
        "Abaixo uma pequena aplicação do que é explicado na documentação do numpy em relação ao cálculo da variância em matrizes, além do uso do axis especificando eixo em que deve ser calculado a variância."
      ],
      "metadata": {
        "id": "zuhZR8xlBImT"
      }
    },
    {
      "cell_type": "code",
      "source": [
        "a = np.array([[1,2], [3,4]])"
      ],
      "metadata": {
        "id": "vQ0iV3-E5fFP"
      },
      "execution_count": 10,
      "outputs": []
    },
    {
      "cell_type": "markdown",
      "source": [
        "Nesse caso usando o método array estou criando uma matriz de duas colunas e duas linhas, a seguir veremos o cálculo da variância de toda a matriz e depois apenas das colunas. As variâncias a seguir são populacionais."
      ],
      "metadata": {
        "id": "XINGi9JJJi0f"
      }
    },
    {
      "cell_type": "code",
      "source": [
        "a"
      ],
      "metadata": {
        "colab": {
          "base_uri": "https://localhost:8080/"
        },
        "id": "C0-q3tk_9HI6",
        "outputId": "609325aa-0288-4937-e8ca-a7c2efe1a8ab"
      },
      "execution_count": 11,
      "outputs": [
        {
          "output_type": "execute_result",
          "data": {
            "text/plain": [
              "array([[1, 2],\n",
              "       [3, 4]])"
            ]
          },
          "metadata": {},
          "execution_count": 11
        }
      ]
    },
    {
      "cell_type": "markdown",
      "source": [
        "**Variância de toda a matriz**"
      ],
      "metadata": {
        "id": "_mLqY-0qJviX"
      }
    },
    {
      "cell_type": "code",
      "source": [
        "np.var(a)"
      ],
      "metadata": {
        "colab": {
          "base_uri": "https://localhost:8080/"
        },
        "id": "6FPkR6Mj9SdE",
        "outputId": "687be8d5-6c53-4a86-dd38-57ed9cd6bf3a"
      },
      "execution_count": 12,
      "outputs": [
        {
          "output_type": "execute_result",
          "data": {
            "text/plain": [
              "1.25"
            ]
          },
          "metadata": {},
          "execution_count": 12
        }
      ]
    },
    {
      "cell_type": "markdown",
      "source": [
        "**Variância apenas das colunas**"
      ],
      "metadata": {
        "id": "iBUGCpU_J0BE"
      }
    },
    {
      "cell_type": "code",
      "source": [
        "np.var(a, axis=0)"
      ],
      "metadata": {
        "colab": {
          "base_uri": "https://localhost:8080/"
        },
        "id": "Al5zixls9_ip",
        "outputId": "983767f1-c41d-4504-dcee-c2be44e31957"
      },
      "execution_count": 13,
      "outputs": [
        {
          "output_type": "execute_result",
          "data": {
            "text/plain": [
              "array([1., 1.])"
            ]
          },
          "metadata": {},
          "execution_count": 13
        }
      ]
    },
    {
      "cell_type": "markdown",
      "source": [
        "**Variância apenas das linhas**"
      ],
      "metadata": {
        "id": "HWv5V4TtJ-ep"
      }
    },
    {
      "cell_type": "code",
      "source": [
        "np.var(a, axis=1)"
      ],
      "metadata": {
        "colab": {
          "base_uri": "https://localhost:8080/"
        },
        "id": "k-MVQwb4_Ym9",
        "outputId": "2d4a1932-8fbf-4185-85ce-115e13a02c1f"
      },
      "execution_count": 14,
      "outputs": [
        {
          "output_type": "execute_result",
          "data": {
            "text/plain": [
              "array([0.25, 0.25])"
            ]
          },
          "metadata": {},
          "execution_count": 14
        }
      ]
    },
    {
      "cell_type": "markdown",
      "source": [
        "**Exemplo de uma variância amostral apenas das colunas**"
      ],
      "metadata": {
        "id": "jjBcbvy9KHOt"
      }
    },
    {
      "cell_type": "code",
      "source": [
        "np.var(a, axis=0, ddof=1)"
      ],
      "metadata": {
        "id": "DYwF3doiA_Gk",
        "colab": {
          "base_uri": "https://localhost:8080/"
        },
        "outputId": "12763973-43e0-4692-9871-158d2769b1b2"
      },
      "execution_count": 15,
      "outputs": [
        {
          "output_type": "execute_result",
          "data": {
            "text/plain": [
              "array([2., 2.])"
            ]
          },
          "metadata": {},
          "execution_count": 15
        }
      ]
    },
    {
      "cell_type": "markdown",
      "source": [
        "## Calculando a variância usando a biblioteca Pandas"
      ],
      "metadata": {
        "id": "K8gteZYfLQog"
      }
    },
    {
      "cell_type": "markdown",
      "source": [
        "A diferença entre calcular a variância usando o pandas ou o numpy é que o pandas calcula a variância amostral sem precisar passar qualquer valor por argumento, basta que a coluna do dataframe a qual desejamos fazer a variância acesse o método var. Enquanto que no numpy o acesso ao método ocorre direto pela biblioteca e é preciso passar o objeto em estudo por parâmetro, assim como o ddof para especificar de que se trata de uma variância amostral."
      ],
      "metadata": {
        "id": "KUadYbYQLrTK"
      }
    },
    {
      "cell_type": "code",
      "source": [
        "import pandas as pd"
      ],
      "metadata": {
        "id": "EtovMGppKeXM"
      },
      "execution_count": 16,
      "outputs": []
    },
    {
      "cell_type": "code",
      "source": [
        "df = pd.DataFrame(numeros)"
      ],
      "metadata": {
        "id": "uLdL5K7YLY_h"
      },
      "execution_count": 18,
      "outputs": []
    },
    {
      "cell_type": "code",
      "source": [
        "df.var()"
      ],
      "metadata": {
        "colab": {
          "base_uri": "https://localhost:8080/"
        },
        "id": "VlCPB1a6LeV8",
        "outputId": "b5bcbb9e-3d56-4f20-c1db-018d3232dcfc"
      },
      "execution_count": 19,
      "outputs": [
        {
          "output_type": "execute_result",
          "data": {
            "text/plain": [
              "0    2.5\n",
              "dtype: float64"
            ]
          },
          "metadata": {},
          "execution_count": 19
        }
      ]
    },
    {
      "cell_type": "markdown",
      "source": [
        "## Desvio Padrão com pandas e numpy"
      ],
      "metadata": {
        "id": "wyocXRz9Px4S"
      }
    },
    {
      "cell_type": "markdown",
      "source": [
        "A variância eleva os valores ao quadrado como vimos, isso altera a escala desses valores, para padronizar essa escala, usamos o desvio padrão que será a raiz quadrada da variância."
      ],
      "metadata": {
        "id": "aI50OcGgP5JU"
      }
    },
    {
      "cell_type": "markdown",
      "source": [
        "**Desvio Padrão com Numpy**"
      ],
      "metadata": {
        "id": "JZxV1FybQRTP"
      }
    },
    {
      "cell_type": "code",
      "source": [
        "np.std(numeros, ddof=1)"
      ],
      "metadata": {
        "colab": {
          "base_uri": "https://localhost:8080/"
        },
        "id": "6DR0v7GcLnyY",
        "outputId": "6a53f465-f76f-4852-9a73-40bb1956fa71"
      },
      "execution_count": 22,
      "outputs": [
        {
          "output_type": "execute_result",
          "data": {
            "text/plain": [
              "1.5811388300841898"
            ]
          },
          "metadata": {},
          "execution_count": 22
        }
      ]
    },
    {
      "cell_type": "markdown",
      "source": [
        "**Desvio Padrão com Pandas**"
      ],
      "metadata": {
        "id": "32DobHyFQkNM"
      }
    },
    {
      "cell_type": "code",
      "source": [
        "df.std()"
      ],
      "metadata": {
        "colab": {
          "base_uri": "https://localhost:8080/"
        },
        "id": "MfUp6ke1QZ2E",
        "outputId": "9e9ffccc-e6dd-46e4-8e66-54c1a2d55127"
      },
      "execution_count": 21,
      "outputs": [
        {
          "output_type": "execute_result",
          "data": {
            "text/plain": [
              "0    1.581139\n",
              "dtype: float64"
            ]
          },
          "metadata": {},
          "execution_count": 21
        }
      ]
    },
    {
      "cell_type": "markdown",
      "source": [
        "**Observação:** vale lembrar que assim como na variância, o desvio padrão tem muda quando calculamos de forma amostral e de forma populacional. Por padrão o pandas já calcula o desvio padrão amostral, para mudar isso devemos zerar o ddof = 0, deste modo ele calculará o desvio padrão populacional. Também por padrão o numpy calcula o desvio padrão populacional e neste caso devemos dizer que ddof = 1 para que ele calcule o desvio padrão amostral."
      ],
      "metadata": {
        "id": "_dctlNI5Qo5w"
      }
    }
  ]
}